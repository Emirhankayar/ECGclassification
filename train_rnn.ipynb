{
 "cells": [
  {
   "cell_type": "code",
   "execution_count": null,
   "metadata": {},
   "outputs": [],
   "source": [
    "import keras_tuner\n",
    "import numpy as np\n",
    "import sklearn.metrics\n",
    "import tensorflow as tf\n",
    "import matplotlib.pyplot as plt\n",
    "import Modules.constants as constants\n",
    "import Modules.ds_loader as ds_loader\n",
    "\n",
    "SAMPLE_PERCENTAGE = 1.0\n",
    "\n",
    "DATA_PATH = constants.DATASET\n",
    "TRAIN_DIR = DATA_PATH / \"train\"\n",
    "VAL_DIR = DATA_PATH / \"val\"\n",
    "TEST_DIR = DATA_PATH / \"test\"\n",
    "\n",
    "X_train, y_train = ds_loader.load_all_data(TRAIN_DIR, SAMPLE_PERCENTAGE)\n",
    "X_val, y_val = ds_loader.load_all_data(VAL_DIR, SAMPLE_PERCENTAGE)\n",
    "X_test, y_test = ds_loader.load_all_data(TEST_DIR, SAMPLE_PERCENTAGE)"
   ]
  },
  {
   "cell_type": "code",
   "execution_count": 30,
   "metadata": {},
   "outputs": [
    {
     "name": "stdout",
     "output_type": "stream",
     "text": [
      "Unique classes in y: [0 1 2 3]\n",
      "float32\n",
      "int32\n",
      "Datatype: None None\n",
      "(8502, 250, 12) (532, 250, 12) (1594, 250, 12)\n",
      "(8502,) (532,) (1594,)\n",
      "Min and Max of X_train: 0.0, 1.0000001192092896\n",
      "Min and Max of X_test: -12.73619556427002, 10.190157890319824\n",
      "Min and Max of X_val: -15.227375984191895, 14.855135917663574\n",
      "NaNs in X: 0\n",
      "Infs in X: 0\n"
     ]
    }
   ],
   "source": [
    "print(\"Unique classes in y:\", np.unique(y_train))\n",
    "print(\"Datatype:\", print(X_train.dtype), print(y_train.dtype))\n",
    "print(X_train.shape, X_test.shape, X_val.shape)\n",
    "print(y_train.shape, y_test.shape, y_val.shape)\n",
    "print(f\"Min and Max of X_train: {np.min(X_train)}, {np.max(X_train)}\")\n",
    "print(f\"Min and Max of X_test: {np.min(X_test)}, {np.max(X_test)}\")\n",
    "print(f\"Min and Max of X_val: {np.min(X_val)}, {np.max(X_val)}\")\n",
    "print(f\"NaNs in X: {np.isnan(X_train).sum()}\")\n",
    "print(f\"Infs in X: {np.isinf(X_train).sum()}\")"
   ]
  },
  {
   "cell_type": "code",
   "execution_count": 31,
   "metadata": {},
   "outputs": [],
   "source": [
    "class RNN(keras_tuner.HyperModel):\n",
    "    def build(self, hp):\n",
    "        # Define Input layer\n",
    "        inputs = tf.keras.layers.Input(shape=(250, 12), dtype=\"float32\")\n",
    "        \n",
    "        # First Bidirectional GRU Layer\n",
    "        x = tf.keras.layers.Bidirectional(tf.keras.layers.GRU(\n",
    "            units=hp.Int('gru_1_units', min_value=32, max_value=256, step=32),\n",
    "            return_sequences=True\n",
    "        ))(inputs)\n",
    "        x = tf.keras.layers.BatchNormalization()(x)\n",
    "        x = tf.keras.layers.Dropout(hp.Float('dropout_1', min_value=0.2, max_value=0.5, step=0.05))(x)\n",
    "\n",
    "        # Second Bidirectional GRU Layer\n",
    "        x = tf.keras.layers.Bidirectional(tf.keras.layers.GRU(\n",
    "            units=hp.Int('gru_2_units', min_value=32, max_value=128, step=16),\n",
    "            return_sequences=False\n",
    "        ))(x)\n",
    "        x = tf.keras.layers.BatchNormalization()(x)\n",
    "        x = tf.keras.layers.Dropout(hp.Float('dropout_2', min_value=0.2, max_value=0.5, step=0.05))(x)\n",
    "\n",
    "        # Dense layer\n",
    "        x = tf.keras.layers.Dense(\n",
    "            units=hp.Int('dense_units', min_value=16, max_value=64, step=16),\n",
    "            activation='relu'\n",
    "        )(x)\n",
    "        x = tf.keras.layers.BatchNormalization()(x)\n",
    "        x = tf.keras.layers.Dropout(hp.Float('dropout_3', min_value=0.1, max_value=0.3, step=0.05))(x)\n",
    "\n",
    "        # Output layer (4 classes)\n",
    "        outputs = tf.keras.layers.Dense(4, activation='softmax')(x)\n",
    "\n",
    "        # Optimizer \n",
    "        optimizer_choice = hp.Choice('optimizer', ['adam', 'sgd'])\n",
    "        \n",
    "        if optimizer_choice == 'adam':\n",
    "            optimizer = tf.keras.optimizers.Adam(\n",
    "                learning_rate=hp.Float('learning_rate', min_value=1e-5, max_value=1e-3, sampling='LOG')\n",
    "            )\n",
    "        elif optimizer_choice == 'sgd':\n",
    "            optimizer = tf.keras.optimizers.SGD(\n",
    "                learning_rate=hp.Float('learning_rate', min_value=1e-5, max_value=1e-3, sampling='LOG'),\n",
    "                momentum=hp.Float('momentum', min_value=0.0, max_value=0.9, step=0.05)\n",
    "            )\n",
    "\n",
    "        model = tf.keras.Model(inputs, outputs)\n",
    "        \n",
    "        model.compile(\n",
    "            optimizer=optimizer,\n",
    "            loss=\"sparse_categorical_crossentropy\",\n",
    "            metrics=[\"accuracy\"]\n",
    "        )\n",
    "        \n",
    "        return model\n",
    "\n",
    "    def fit(self, hp, model, *args, **kwargs):\n",
    "        return model.fit(\n",
    "            epochs=hp.Int(\"epochs\", 5, 50),\n",
    "            batch_size=hp.Choice(\"batch_size\", [8, 16, 32]),\n",
    "            *args,\n",
    "            **kwargs,\n",
    "        )"
   ]
  },
  {
   "cell_type": "code",
   "execution_count": 32,
   "metadata": {},
   "outputs": [
    {
     "name": "stdout",
     "output_type": "stream",
     "text": [
      "Reloading Tuner from Results/GRU/ECGClassification/tuner0.json\n",
      "Search space summary\n",
      "Default search space size: 11\n",
      "gru_1_units (Int)\n",
      "{'default': None, 'conditions': [], 'min_value': 32, 'max_value': 256, 'step': 32, 'sampling': 'linear'}\n",
      "dropout_1 (Float)\n",
      "{'default': 0.2, 'conditions': [], 'min_value': 0.2, 'max_value': 0.5, 'step': 0.05, 'sampling': 'linear'}\n",
      "gru_2_units (Int)\n",
      "{'default': None, 'conditions': [], 'min_value': 32, 'max_value': 128, 'step': 16, 'sampling': 'linear'}\n",
      "dropout_2 (Float)\n",
      "{'default': 0.2, 'conditions': [], 'min_value': 0.2, 'max_value': 0.5, 'step': 0.05, 'sampling': 'linear'}\n",
      "dense_units (Int)\n",
      "{'default': None, 'conditions': [], 'min_value': 16, 'max_value': 64, 'step': 16, 'sampling': 'linear'}\n",
      "dropout_3 (Float)\n",
      "{'default': 0.1, 'conditions': [], 'min_value': 0.1, 'max_value': 0.3, 'step': 0.05, 'sampling': 'linear'}\n",
      "optimizer (Choice)\n",
      "{'default': 'adam', 'conditions': [], 'values': ['adam', 'sgd'], 'ordered': False}\n",
      "learning_rate (Float)\n",
      "{'default': 1e-05, 'conditions': [], 'min_value': 1e-05, 'max_value': 0.001, 'step': None, 'sampling': 'log'}\n",
      "epochs (Int)\n",
      "{'default': None, 'conditions': [], 'min_value': 5, 'max_value': 50, 'step': 1, 'sampling': 'linear'}\n",
      "batch_size (Choice)\n",
      "{'default': 8, 'conditions': [], 'values': [8, 16, 32], 'ordered': True}\n",
      "momentum (Float)\n",
      "{'default': 0.0, 'conditions': [], 'min_value': 0.0, 'max_value': 0.9, 'step': 0.05, 'sampling': 'linear'}\n"
     ]
    }
   ],
   "source": [
    "tuner = keras_tuner.RandomSearch(\n",
    "    RNN(),\n",
    "    max_trials=30,\n",
    "    objective='val_loss',\n",
    "    directory=\"Results/GRU\",\n",
    "    project_name=\"ECGClassification\",\n",
    "    )\n",
    "tuner.search_space_summary()"
   ]
  },
  {
   "cell_type": "code",
   "execution_count": null,
   "metadata": {},
   "outputs": [
    {
     "name": "stdout",
     "output_type": "stream",
     "text": [
      "Trial 13 Complete [00h 04m 03s]\n",
      "val_loss: 1.706668734550476\n",
      "\n",
      "Best val_loss So Far: 0.2646099030971527\n",
      "Total elapsed time: 01h 39m 45s\n",
      "\n",
      "Search: Running Trial #14\n",
      "\n",
      "Value             |Best Value So Far |Hyperparameter\n",
      "32                |160               |gru_1_units\n",
      "0.25              |0.4               |dropout_1\n",
      "96                |96                |gru_2_units\n",
      "0.45              |0.25              |dropout_2\n",
      "32                |32                |dense_units\n",
      "0.2               |0.2               |dropout_3\n",
      "adam              |adam              |optimizer\n",
      "1.0486e-05        |0.0006074         |learning_rate\n",
      "16                |47                |epochs\n",
      "16                |16                |batch_size\n",
      "0.35              |0.85              |momentum\n",
      "\n",
      "Epoch 1/16\n",
      "\u001b[1m532/532\u001b[0m \u001b[32m━━━━━━━━━━━━━━━━━━━━\u001b[0m\u001b[37m\u001b[0m \u001b[1m15s\u001b[0m 24ms/step - accuracy: 0.2385 - loss: 2.0561 - val_accuracy: 0.2327 - val_loss: 1.4902\n",
      "Epoch 2/16\n",
      "\u001b[1m330/532\u001b[0m \u001b[32m━━━━━━━━━━━━\u001b[0m\u001b[37m━━━━━━━━\u001b[0m \u001b[1m4s\u001b[0m 22ms/step - accuracy: 0.2542 - loss: 1.8870"
     ]
    }
   ],
   "source": [
    "callback_list = [\n",
    "    tf.keras.callbacks.EarlyStopping(monitor=\"val_loss\", patience=5, verbose=0),\n",
    "]\n",
    "\n",
    "tuner.search(\n",
    "    X_train, y_train, \n",
    "    validation_data=(X_val, y_val),\n",
    "    callbacks=callback_list \n",
    ")"
   ]
  },
  {
   "cell_type": "code",
   "execution_count": null,
   "metadata": {},
   "outputs": [
    {
     "name": "stdout",
     "output_type": "stream",
     "text": [
      "Results summary\n",
      "Results in RESULTS/GRU/ECGClassification\n",
      "Showing 10 best trials\n",
      "Objective(name=\"val_loss\", direction=\"min\")\n",
      "\n",
      "Trial 09 summary\n",
      "Hyperparameters:\n",
      "gru_1_units: 160\n",
      "dropout_1: 0.4\n",
      "gru_2_units: 96\n",
      "dropout_2: 0.25\n",
      "dense_units: 32\n",
      "dropout_3: 0.2\n",
      "optimizer: adam\n",
      "learning_rate: 0.0006073973849810032\n",
      "epochs: 47\n",
      "batch_size: 16\n",
      "momentum: 0.8500000000000001\n",
      "Score: 0.2646099030971527\n",
      "\n",
      "Trial 03 summary\n",
      "Hyperparameters:\n",
      "gru_1_units: 256\n",
      "dropout_1: 0.2\n",
      "gru_2_units: 80\n",
      "dropout_2: 0.30000000000000004\n",
      "dense_units: 64\n",
      "dropout_3: 0.2\n",
      "optimizer: adam\n",
      "learning_rate: 0.00013868016325519167\n",
      "epochs: 23\n",
      "batch_size: 8\n",
      "momentum: 0.2\n",
      "Score: 0.325541228055954\n",
      "\n",
      "Trial 05 summary\n",
      "Hyperparameters:\n",
      "gru_1_units: 256\n",
      "dropout_1: 0.45\n",
      "gru_2_units: 32\n",
      "dropout_2: 0.4\n",
      "dense_units: 16\n",
      "dropout_3: 0.25\n",
      "optimizer: adam\n",
      "learning_rate: 0.0003842350752244457\n",
      "epochs: 47\n",
      "batch_size: 8\n",
      "momentum: 0.6000000000000001\n",
      "Score: 0.3586284816265106\n",
      "\n",
      "Trial 01 summary\n",
      "Hyperparameters:\n",
      "gru_1_units: 32\n",
      "dropout_1: 0.30000000000000004\n",
      "gru_2_units: 96\n",
      "dropout_2: 0.25\n",
      "dense_units: 16\n",
      "dropout_3: 0.2\n",
      "optimizer: adam\n",
      "learning_rate: 0.0008569905521819712\n",
      "epochs: 6\n",
      "batch_size: 8\n",
      "Score: 0.6683677434921265\n",
      "\n",
      "Trial 00 summary\n",
      "Hyperparameters:\n",
      "gru_1_units: 160\n",
      "dropout_1: 0.4\n",
      "gru_2_units: 32\n",
      "dropout_2: 0.35000000000000003\n",
      "dense_units: 64\n",
      "dropout_3: 0.15000000000000002\n",
      "optimizer: adam\n",
      "learning_rate: 0.0002904610757828663\n",
      "epochs: 5\n",
      "batch_size: 8\n",
      "Score: 1.2569574117660522\n",
      "\n",
      "Trial 04 summary\n",
      "Hyperparameters:\n",
      "gru_1_units: 64\n",
      "dropout_1: 0.2\n",
      "gru_2_units: 48\n",
      "dropout_2: 0.30000000000000004\n",
      "dense_units: 16\n",
      "dropout_3: 0.2\n",
      "optimizer: sgd\n",
      "learning_rate: 0.0007345641430011454\n",
      "epochs: 10\n",
      "batch_size: 16\n",
      "momentum: 0.35000000000000003\n",
      "Score: 1.4327893257141113\n",
      "\n",
      "Trial 06 summary\n",
      "Hyperparameters:\n",
      "gru_1_units: 160\n",
      "dropout_1: 0.30000000000000004\n",
      "gru_2_units: 80\n",
      "dropout_2: 0.35000000000000003\n",
      "dense_units: 32\n",
      "dropout_3: 0.25\n",
      "optimizer: sgd\n",
      "learning_rate: 2.0887148767717056e-05\n",
      "epochs: 23\n",
      "batch_size: 16\n",
      "momentum: 0.0\n",
      "Score: 1.4812532663345337\n",
      "\n",
      "Trial 02 summary\n",
      "Hyperparameters:\n",
      "gru_1_units: 64\n",
      "dropout_1: 0.4\n",
      "gru_2_units: 128\n",
      "dropout_2: 0.45\n",
      "dense_units: 32\n",
      "dropout_3: 0.25\n",
      "optimizer: sgd\n",
      "learning_rate: 4.542815732661726e-05\n",
      "epochs: 19\n",
      "batch_size: 32\n",
      "momentum: 0.0\n",
      "Score: 1.5267953872680664\n",
      "\n",
      "Trial 07 summary\n",
      "Hyperparameters:\n",
      "gru_1_units: 64\n",
      "dropout_1: 0.45\n",
      "gru_2_units: 96\n",
      "dropout_2: 0.35000000000000003\n",
      "dense_units: 32\n",
      "dropout_3: 0.15000000000000002\n",
      "optimizer: sgd\n",
      "learning_rate: 3.056656343851544e-05\n",
      "epochs: 37\n",
      "batch_size: 32\n",
      "momentum: 0.2\n",
      "Score: 1.555202841758728\n",
      "\n",
      "Trial 08 summary\n",
      "Hyperparameters:\n",
      "gru_1_units: 32\n",
      "dropout_1: 0.30000000000000004\n",
      "gru_2_units: 112\n",
      "dropout_2: 0.35000000000000003\n",
      "dense_units: 48\n",
      "dropout_3: 0.2\n",
      "optimizer: adam\n",
      "learning_rate: 2.695681890021905e-05\n",
      "epochs: 9\n",
      "batch_size: 8\n",
      "momentum: 0.30000000000000004\n",
      "Score: 1.7730499505996704\n"
     ]
    }
   ],
   "source": [
    "tuner.results_summary()"
   ]
  },
  {
   "cell_type": "code",
   "execution_count": null,
   "metadata": {},
   "outputs": [
    {
     "name": "stderr",
     "output_type": "stream",
     "text": [
      "/home/capitan/.venv/tenv/lib64/python3.11/site-packages/keras/src/saving/saving_lib.py:757: UserWarning: Skipping variable loading for optimizer 'adam', because it has 2 variables whereas the saved optimizer has 46 variables. \n",
      "  saveable.load_own_variables(weights_store.get(inner_path))\n"
     ]
    },
    {
     "data": {
      "text/html": [
       "<pre style=\"white-space:pre;overflow-x:auto;line-height:normal;font-family:Menlo,'DejaVu Sans Mono',consolas,'Courier New',monospace\"><span style=\"font-weight: bold\">Model: \"functional\"</span>\n",
       "</pre>\n"
      ],
      "text/plain": [
       "\u001b[1mModel: \"functional\"\u001b[0m\n"
      ]
     },
     "metadata": {},
     "output_type": "display_data"
    },
    {
     "data": {
      "text/html": [
       "<pre style=\"white-space:pre;overflow-x:auto;line-height:normal;font-family:Menlo,'DejaVu Sans Mono',consolas,'Courier New',monospace\">┏━━━━━━━━━━━━━━━━━━━━━━━━━━━━━━━━━┳━━━━━━━━━━━━━━━━━━━━━━━━┳━━━━━━━━━━━━━━━┓\n",
       "┃<span style=\"font-weight: bold\"> Layer (type)                    </span>┃<span style=\"font-weight: bold\"> Output Shape           </span>┃<span style=\"font-weight: bold\">       Param # </span>┃\n",
       "┡━━━━━━━━━━━━━━━━━━━━━━━━━━━━━━━━━╇━━━━━━━━━━━━━━━━━━━━━━━━╇━━━━━━━━━━━━━━━┩\n",
       "│ input_layer (<span style=\"color: #0087ff; text-decoration-color: #0087ff\">InputLayer</span>)        │ (<span style=\"color: #00d7ff; text-decoration-color: #00d7ff\">None</span>, <span style=\"color: #00af00; text-decoration-color: #00af00\">250</span>, <span style=\"color: #00af00; text-decoration-color: #00af00\">12</span>)        │             <span style=\"color: #00af00; text-decoration-color: #00af00\">0</span> │\n",
       "├─────────────────────────────────┼────────────────────────┼───────────────┤\n",
       "│ bidirectional (<span style=\"color: #0087ff; text-decoration-color: #0087ff\">Bidirectional</span>)   │ (<span style=\"color: #00d7ff; text-decoration-color: #00d7ff\">None</span>, <span style=\"color: #00af00; text-decoration-color: #00af00\">250</span>, <span style=\"color: #00af00; text-decoration-color: #00af00\">320</span>)       │       <span style=\"color: #00af00; text-decoration-color: #00af00\">167,040</span> │\n",
       "├─────────────────────────────────┼────────────────────────┼───────────────┤\n",
       "│ batch_normalization             │ (<span style=\"color: #00d7ff; text-decoration-color: #00d7ff\">None</span>, <span style=\"color: #00af00; text-decoration-color: #00af00\">250</span>, <span style=\"color: #00af00; text-decoration-color: #00af00\">320</span>)       │         <span style=\"color: #00af00; text-decoration-color: #00af00\">1,280</span> │\n",
       "│ (<span style=\"color: #0087ff; text-decoration-color: #0087ff\">BatchNormalization</span>)            │                        │               │\n",
       "├─────────────────────────────────┼────────────────────────┼───────────────┤\n",
       "│ dropout (<span style=\"color: #0087ff; text-decoration-color: #0087ff\">Dropout</span>)               │ (<span style=\"color: #00d7ff; text-decoration-color: #00d7ff\">None</span>, <span style=\"color: #00af00; text-decoration-color: #00af00\">250</span>, <span style=\"color: #00af00; text-decoration-color: #00af00\">320</span>)       │             <span style=\"color: #00af00; text-decoration-color: #00af00\">0</span> │\n",
       "├─────────────────────────────────┼────────────────────────┼───────────────┤\n",
       "│ bidirectional_1 (<span style=\"color: #0087ff; text-decoration-color: #0087ff\">Bidirectional</span>) │ (<span style=\"color: #00d7ff; text-decoration-color: #00d7ff\">None</span>, <span style=\"color: #00af00; text-decoration-color: #00af00\">192</span>)            │       <span style=\"color: #00af00; text-decoration-color: #00af00\">240,768</span> │\n",
       "├─────────────────────────────────┼────────────────────────┼───────────────┤\n",
       "│ batch_normalization_1           │ (<span style=\"color: #00d7ff; text-decoration-color: #00d7ff\">None</span>, <span style=\"color: #00af00; text-decoration-color: #00af00\">192</span>)            │           <span style=\"color: #00af00; text-decoration-color: #00af00\">768</span> │\n",
       "│ (<span style=\"color: #0087ff; text-decoration-color: #0087ff\">BatchNormalization</span>)            │                        │               │\n",
       "├─────────────────────────────────┼────────────────────────┼───────────────┤\n",
       "│ dropout_1 (<span style=\"color: #0087ff; text-decoration-color: #0087ff\">Dropout</span>)             │ (<span style=\"color: #00d7ff; text-decoration-color: #00d7ff\">None</span>, <span style=\"color: #00af00; text-decoration-color: #00af00\">192</span>)            │             <span style=\"color: #00af00; text-decoration-color: #00af00\">0</span> │\n",
       "├─────────────────────────────────┼────────────────────────┼───────────────┤\n",
       "│ dense (<span style=\"color: #0087ff; text-decoration-color: #0087ff\">Dense</span>)                   │ (<span style=\"color: #00d7ff; text-decoration-color: #00d7ff\">None</span>, <span style=\"color: #00af00; text-decoration-color: #00af00\">32</span>)             │         <span style=\"color: #00af00; text-decoration-color: #00af00\">6,176</span> │\n",
       "├─────────────────────────────────┼────────────────────────┼───────────────┤\n",
       "│ batch_normalization_2           │ (<span style=\"color: #00d7ff; text-decoration-color: #00d7ff\">None</span>, <span style=\"color: #00af00; text-decoration-color: #00af00\">32</span>)             │           <span style=\"color: #00af00; text-decoration-color: #00af00\">128</span> │\n",
       "│ (<span style=\"color: #0087ff; text-decoration-color: #0087ff\">BatchNormalization</span>)            │                        │               │\n",
       "├─────────────────────────────────┼────────────────────────┼───────────────┤\n",
       "│ dropout_2 (<span style=\"color: #0087ff; text-decoration-color: #0087ff\">Dropout</span>)             │ (<span style=\"color: #00d7ff; text-decoration-color: #00d7ff\">None</span>, <span style=\"color: #00af00; text-decoration-color: #00af00\">32</span>)             │             <span style=\"color: #00af00; text-decoration-color: #00af00\">0</span> │\n",
       "├─────────────────────────────────┼────────────────────────┼───────────────┤\n",
       "│ dense_1 (<span style=\"color: #0087ff; text-decoration-color: #0087ff\">Dense</span>)                 │ (<span style=\"color: #00d7ff; text-decoration-color: #00d7ff\">None</span>, <span style=\"color: #00af00; text-decoration-color: #00af00\">4</span>)              │           <span style=\"color: #00af00; text-decoration-color: #00af00\">132</span> │\n",
       "└─────────────────────────────────┴────────────────────────┴───────────────┘\n",
       "</pre>\n"
      ],
      "text/plain": [
       "┏━━━━━━━━━━━━━━━━━━━━━━━━━━━━━━━━━┳━━━━━━━━━━━━━━━━━━━━━━━━┳━━━━━━━━━━━━━━━┓\n",
       "┃\u001b[1m \u001b[0m\u001b[1mLayer (type)                   \u001b[0m\u001b[1m \u001b[0m┃\u001b[1m \u001b[0m\u001b[1mOutput Shape          \u001b[0m\u001b[1m \u001b[0m┃\u001b[1m \u001b[0m\u001b[1m      Param #\u001b[0m\u001b[1m \u001b[0m┃\n",
       "┡━━━━━━━━━━━━━━━━━━━━━━━━━━━━━━━━━╇━━━━━━━━━━━━━━━━━━━━━━━━╇━━━━━━━━━━━━━━━┩\n",
       "│ input_layer (\u001b[38;5;33mInputLayer\u001b[0m)        │ (\u001b[38;5;45mNone\u001b[0m, \u001b[38;5;34m250\u001b[0m, \u001b[38;5;34m12\u001b[0m)        │             \u001b[38;5;34m0\u001b[0m │\n",
       "├─────────────────────────────────┼────────────────────────┼───────────────┤\n",
       "│ bidirectional (\u001b[38;5;33mBidirectional\u001b[0m)   │ (\u001b[38;5;45mNone\u001b[0m, \u001b[38;5;34m250\u001b[0m, \u001b[38;5;34m320\u001b[0m)       │       \u001b[38;5;34m167,040\u001b[0m │\n",
       "├─────────────────────────────────┼────────────────────────┼───────────────┤\n",
       "│ batch_normalization             │ (\u001b[38;5;45mNone\u001b[0m, \u001b[38;5;34m250\u001b[0m, \u001b[38;5;34m320\u001b[0m)       │         \u001b[38;5;34m1,280\u001b[0m │\n",
       "│ (\u001b[38;5;33mBatchNormalization\u001b[0m)            │                        │               │\n",
       "├─────────────────────────────────┼────────────────────────┼───────────────┤\n",
       "│ dropout (\u001b[38;5;33mDropout\u001b[0m)               │ (\u001b[38;5;45mNone\u001b[0m, \u001b[38;5;34m250\u001b[0m, \u001b[38;5;34m320\u001b[0m)       │             \u001b[38;5;34m0\u001b[0m │\n",
       "├─────────────────────────────────┼────────────────────────┼───────────────┤\n",
       "│ bidirectional_1 (\u001b[38;5;33mBidirectional\u001b[0m) │ (\u001b[38;5;45mNone\u001b[0m, \u001b[38;5;34m192\u001b[0m)            │       \u001b[38;5;34m240,768\u001b[0m │\n",
       "├─────────────────────────────────┼────────────────────────┼───────────────┤\n",
       "│ batch_normalization_1           │ (\u001b[38;5;45mNone\u001b[0m, \u001b[38;5;34m192\u001b[0m)            │           \u001b[38;5;34m768\u001b[0m │\n",
       "│ (\u001b[38;5;33mBatchNormalization\u001b[0m)            │                        │               │\n",
       "├─────────────────────────────────┼────────────────────────┼───────────────┤\n",
       "│ dropout_1 (\u001b[38;5;33mDropout\u001b[0m)             │ (\u001b[38;5;45mNone\u001b[0m, \u001b[38;5;34m192\u001b[0m)            │             \u001b[38;5;34m0\u001b[0m │\n",
       "├─────────────────────────────────┼────────────────────────┼───────────────┤\n",
       "│ dense (\u001b[38;5;33mDense\u001b[0m)                   │ (\u001b[38;5;45mNone\u001b[0m, \u001b[38;5;34m32\u001b[0m)             │         \u001b[38;5;34m6,176\u001b[0m │\n",
       "├─────────────────────────────────┼────────────────────────┼───────────────┤\n",
       "│ batch_normalization_2           │ (\u001b[38;5;45mNone\u001b[0m, \u001b[38;5;34m32\u001b[0m)             │           \u001b[38;5;34m128\u001b[0m │\n",
       "│ (\u001b[38;5;33mBatchNormalization\u001b[0m)            │                        │               │\n",
       "├─────────────────────────────────┼────────────────────────┼───────────────┤\n",
       "│ dropout_2 (\u001b[38;5;33mDropout\u001b[0m)             │ (\u001b[38;5;45mNone\u001b[0m, \u001b[38;5;34m32\u001b[0m)             │             \u001b[38;5;34m0\u001b[0m │\n",
       "├─────────────────────────────────┼────────────────────────┼───────────────┤\n",
       "│ dense_1 (\u001b[38;5;33mDense\u001b[0m)                 │ (\u001b[38;5;45mNone\u001b[0m, \u001b[38;5;34m4\u001b[0m)              │           \u001b[38;5;34m132\u001b[0m │\n",
       "└─────────────────────────────────┴────────────────────────┴───────────────┘\n"
      ]
     },
     "metadata": {},
     "output_type": "display_data"
    },
    {
     "data": {
      "text/html": [
       "<pre style=\"white-space:pre;overflow-x:auto;line-height:normal;font-family:Menlo,'DejaVu Sans Mono',consolas,'Courier New',monospace\"><span style=\"font-weight: bold\"> Total params: </span><span style=\"color: #00af00; text-decoration-color: #00af00\">416,292</span> (1.59 MB)\n",
       "</pre>\n"
      ],
      "text/plain": [
       "\u001b[1m Total params: \u001b[0m\u001b[38;5;34m416,292\u001b[0m (1.59 MB)\n"
      ]
     },
     "metadata": {},
     "output_type": "display_data"
    },
    {
     "data": {
      "text/html": [
       "<pre style=\"white-space:pre;overflow-x:auto;line-height:normal;font-family:Menlo,'DejaVu Sans Mono',consolas,'Courier New',monospace\"><span style=\"font-weight: bold\"> Trainable params: </span><span style=\"color: #00af00; text-decoration-color: #00af00\">415,204</span> (1.58 MB)\n",
       "</pre>\n"
      ],
      "text/plain": [
       "\u001b[1m Trainable params: \u001b[0m\u001b[38;5;34m415,204\u001b[0m (1.58 MB)\n"
      ]
     },
     "metadata": {},
     "output_type": "display_data"
    },
    {
     "data": {
      "text/html": [
       "<pre style=\"white-space:pre;overflow-x:auto;line-height:normal;font-family:Menlo,'DejaVu Sans Mono',consolas,'Courier New',monospace\"><span style=\"font-weight: bold\"> Non-trainable params: </span><span style=\"color: #00af00; text-decoration-color: #00af00\">1,088</span> (4.25 KB)\n",
       "</pre>\n"
      ],
      "text/plain": [
       "\u001b[1m Non-trainable params: \u001b[0m\u001b[38;5;34m1,088\u001b[0m (4.25 KB)\n"
      ]
     },
     "metadata": {},
     "output_type": "display_data"
    },
    {
     "name": "stderr",
     "output_type": "stream",
     "text": [
      "WARNING:absl:You are saving your model as an HDF5 file via `model.save()` or `keras.saving.save_model(model)`. This file format is considered legacy. We recommend using instead the native Keras format, e.g. `model.save('my_model.keras')` or `keras.saving.save_model(model, 'my_model.keras')`. \n"
     ]
    }
   ],
   "source": [
    "models = tuner.get_best_models(num_models=2)\n",
    "best_model = models[0]\n",
    "best_model.summary()\n",
    "best_model.save(\"best_model_rnn.keras\") "
   ]
  },
  {
   "cell_type": "code",
   "execution_count": null,
   "metadata": {},
   "outputs": [
    {
     "name": "stdout",
     "output_type": "stream",
     "text": [
      "\u001b[1m17/17\u001b[0m \u001b[32m━━━━━━━━━━━━━━━━━━━━\u001b[0m\u001b[37m\u001b[0m \u001b[1m1s\u001b[0m 17ms/step - accuracy: 0.8898 - loss: 0.3612\n",
      "Test Loss: 0.2816593050956726\n",
      "Test Accuracy: 0.9191729426383972\n"
     ]
    }
   ],
   "source": [
    "test_loss, test_accuracy = best_model.evaluate(X_test, y_test, batch_size=32)\n",
    "print(f\"Test Loss: {test_loss}\")\n",
    "print(f\"Test Accuracy: {test_accuracy}\")"
   ]
  },
  {
   "cell_type": "code",
   "execution_count": null,
   "metadata": {},
   "outputs": [
    {
     "name": "stdout",
     "output_type": "stream",
     "text": [
      "\u001b[1m17/17\u001b[0m \u001b[32m━━━━━━━━━━━━━━━━━━━━\u001b[0m\u001b[37m\u001b[0m \u001b[1m0s\u001b[0m 16ms/step\n",
      "Classification Report (Test Data):\n",
      "              precision    recall  f1-score   support\n",
      "\n",
      "           0       0.89      0.83      0.86       111\n",
      "           1       0.81      0.94      0.87       115\n",
      "           2       0.98      0.96      0.97       195\n",
      "           3       0.96      0.91      0.94       111\n",
      "\n",
      "    accuracy                           0.92       532\n",
      "   macro avg       0.91      0.91      0.91       532\n",
      "weighted avg       0.92      0.92      0.92       532\n",
      "\n",
      "AUC: 0.9829726713025733\n",
      "\u001b[1m266/266\u001b[0m \u001b[32m━━━━━━━━━━━━━━━━━━━━\u001b[0m\u001b[37m\u001b[0m \u001b[1m3s\u001b[0m 13ms/step\n",
      "Classification Report (Train Data):\n",
      "              precision    recall  f1-score   support\n",
      "\n",
      "           0       0.89      0.94      0.91      1774\n",
      "           1       0.94      0.91      0.93      1840\n",
      "           2       0.98      0.98      0.98      3110\n",
      "           3       0.96      0.94      0.95      1778\n",
      "\n",
      "    accuracy                           0.95      8502\n",
      "   macro avg       0.94      0.94      0.94      8502\n",
      "weighted avg       0.95      0.95      0.95      8502\n",
      "\n"
     ]
    }
   ],
   "source": [
    "y_pred = best_model.predict(X_test)\n",
    "\n",
    "if y_pred.shape[1] == 1:  \n",
    "    y_pred_binary = (y_pred > 0.5).astype(int)\n",
    "    auc = sklearn.metrics.roc_auc_score(y_test, y_pred)  \n",
    "else:\n",
    "    y_pred_binary = np.argmax(y_pred, axis=1)  \n",
    "    auc = sklearn.metrics.roc_auc_score(y_test, y_pred, multi_class='ovr')\n",
    "\n",
    "print(\"Classification Report (Test Data):\")\n",
    "print(sklearn.metrics.classification_report(y_test, y_pred_binary))\n",
    "print(f\"AUC: {auc}\")\n",
    "\n",
    "y_train_pred = best_model.predict(X_train)\n",
    "y_train_pred = np.argmax(y_train_pred, axis=1)\n",
    "\n",
    "print(\"Classification Report (Train Data):\")\n",
    "print(sklearn.metrics.classification_report(y_train, y_train_pred))\n"
   ]
  },
  {
   "cell_type": "code",
   "execution_count": null,
   "metadata": {},
   "outputs": [
    {
     "name": "stdout",
     "output_type": "stream",
     "text": [
      "{'gru_1_units': 160, 'dropout_1': 0.4, 'gru_2_units': 96, 'dropout_2': 0.25, 'dense_units': 32, 'dropout_3': 0.2, 'optimizer': 'adam', 'learning_rate': 0.0006073973849810032, 'epochs': 47, 'batch_size': 16, 'momentum': 0.8500000000000001}\n"
     ]
    }
   ],
   "source": [
    "best_hps = tuner.get_best_hyperparameters(num_trials=1)[0] \n",
    "print(best_hps.values)"
   ]
  },
  {
   "cell_type": "markdown",
   "metadata": {},
   "source": [
    "## MANUAL ADJUSTMENTS"
   ]
  },
  {
   "cell_type": "markdown",
   "metadata": {},
   "source": [
    "#### Hand-tune the best candidate model here if slight changes will make a difference"
   ]
  },
  {
   "cell_type": "code",
   "execution_count": null,
   "metadata": {},
   "outputs": [
    {
     "name": "stdout",
     "output_type": "stream",
     "text": [
      "Epoch 1/70\n",
      "\u001b[1m532/532\u001b[0m \u001b[32m━━━━━━━━━━━━━━━━━━━━\u001b[0m\u001b[37m\u001b[0m \u001b[1m17s\u001b[0m 29ms/step - accuracy: 0.3459 - loss: 1.5881 - val_accuracy: 0.3407 - val_loss: 1.4743\n",
      "Epoch 2/70\n",
      "\u001b[1m532/532\u001b[0m \u001b[32m━━━━━━━━━━━━━━━━━━━━\u001b[0m\u001b[37m\u001b[0m \u001b[1m15s\u001b[0m 27ms/step - accuracy: 0.4193 - loss: 1.3100 - val_accuracy: 0.3877 - val_loss: 1.7140\n",
      "Epoch 3/70\n",
      "\u001b[1m532/532\u001b[0m \u001b[32m━━━━━━━━━━━━━━━━━━━━\u001b[0m\u001b[37m\u001b[0m \u001b[1m15s\u001b[0m 28ms/step - accuracy: 0.5234 - loss: 1.1053 - val_accuracy: 0.4787 - val_loss: 1.7388\n",
      "Epoch 4/70\n",
      "\u001b[1m532/532\u001b[0m \u001b[32m━━━━━━━━━━━━━━━━━━━━\u001b[0m\u001b[37m\u001b[0m \u001b[1m16s\u001b[0m 29ms/step - accuracy: 0.6682 - loss: 0.8163 - val_accuracy: 0.5295 - val_loss: 1.6941\n",
      "Epoch 5/70\n",
      "\u001b[1m532/532\u001b[0m \u001b[32m━━━━━━━━━━━━━━━━━━━━\u001b[0m\u001b[37m\u001b[0m \u001b[1m16s\u001b[0m 30ms/step - accuracy: 0.7413 - loss: 0.6775 - val_accuracy: 0.7472 - val_loss: 0.7371\n",
      "Epoch 6/70\n",
      "\u001b[1m532/532\u001b[0m \u001b[32m━━━━━━━━━━━━━━━━━━━━\u001b[0m\u001b[37m\u001b[0m \u001b[1m16s\u001b[0m 30ms/step - accuracy: 0.8304 - loss: 0.4764 - val_accuracy: 0.8074 - val_loss: 0.5091\n",
      "Epoch 7/70\n",
      "\u001b[1m532/532\u001b[0m \u001b[32m━━━━━━━━━━━━━━━━━━━━\u001b[0m\u001b[37m\u001b[0m \u001b[1m15s\u001b[0m 28ms/step - accuracy: 0.8533 - loss: 0.4196 - val_accuracy: 0.8639 - val_loss: 0.3730\n",
      "Epoch 8/70\n",
      "\u001b[1m532/532\u001b[0m \u001b[32m━━━━━━━━━━━━━━━━━━━━\u001b[0m\u001b[37m\u001b[0m \u001b[1m14s\u001b[0m 26ms/step - accuracy: 0.8766 - loss: 0.3630 - val_accuracy: 0.8739 - val_loss: 0.3392\n",
      "Epoch 9/70\n",
      "\u001b[1m532/532\u001b[0m \u001b[32m━━━━━━━━━━━━━━━━━━━━\u001b[0m\u001b[37m\u001b[0m \u001b[1m14s\u001b[0m 26ms/step - accuracy: 0.8819 - loss: 0.3389 - val_accuracy: 0.8720 - val_loss: 0.3907\n",
      "Epoch 10/70\n",
      "\u001b[1m532/532\u001b[0m \u001b[32m━━━━━━━━━━━━━━━━━━━━\u001b[0m\u001b[37m\u001b[0m \u001b[1m14s\u001b[0m 26ms/step - accuracy: 0.8903 - loss: 0.3275 - val_accuracy: 0.8864 - val_loss: 0.3366\n",
      "Epoch 11/70\n",
      "\u001b[1m532/532\u001b[0m \u001b[32m━━━━━━━━━━━━━━━━━━━━\u001b[0m\u001b[37m\u001b[0m \u001b[1m14s\u001b[0m 25ms/step - accuracy: 0.9096 - loss: 0.2821 - val_accuracy: 0.8802 - val_loss: 0.3697\n",
      "Epoch 12/70\n",
      "\u001b[1m532/532\u001b[0m \u001b[32m━━━━━━━━━━━━━━━━━━━━\u001b[0m\u001b[37m\u001b[0m \u001b[1m13s\u001b[0m 25ms/step - accuracy: 0.9142 - loss: 0.2643 - val_accuracy: 0.8890 - val_loss: 0.3507\n",
      "Epoch 13/70\n",
      "\u001b[1m532/532\u001b[0m \u001b[32m━━━━━━━━━━━━━━━━━━━━\u001b[0m\u001b[37m\u001b[0m \u001b[1m15s\u001b[0m 28ms/step - accuracy: 0.9216 - loss: 0.2478 - val_accuracy: 0.9109 - val_loss: 0.3030\n",
      "Epoch 14/70\n",
      "\u001b[1m532/532\u001b[0m \u001b[32m━━━━━━━━━━━━━━━━━━━━\u001b[0m\u001b[37m\u001b[0m \u001b[1m14s\u001b[0m 26ms/step - accuracy: 0.9215 - loss: 0.2491 - val_accuracy: 0.9040 - val_loss: 0.2834\n",
      "Epoch 15/70\n",
      "\u001b[1m532/532\u001b[0m \u001b[32m━━━━━━━━━━━━━━━━━━━━\u001b[0m\u001b[37m\u001b[0m \u001b[1m14s\u001b[0m 27ms/step - accuracy: 0.9264 - loss: 0.2237 - val_accuracy: 0.8959 - val_loss: 0.3355\n",
      "Epoch 16/70\n",
      "\u001b[1m532/532\u001b[0m \u001b[32m━━━━━━━━━━━━━━━━━━━━\u001b[0m\u001b[37m\u001b[0m \u001b[1m13s\u001b[0m 25ms/step - accuracy: 0.9274 - loss: 0.2222 - val_accuracy: 0.9134 - val_loss: 0.2556\n",
      "Epoch 17/70\n",
      "\u001b[1m532/532\u001b[0m \u001b[32m━━━━━━━━━━━━━━━━━━━━\u001b[0m\u001b[37m\u001b[0m \u001b[1m14s\u001b[0m 26ms/step - accuracy: 0.9343 - loss: 0.2016 - val_accuracy: 0.8990 - val_loss: 0.2819\n",
      "Epoch 18/70\n",
      "\u001b[1m532/532\u001b[0m \u001b[32m━━━━━━━━━━━━━━━━━━━━\u001b[0m\u001b[37m\u001b[0m \u001b[1m13s\u001b[0m 25ms/step - accuracy: 0.9331 - loss: 0.2095 - val_accuracy: 0.9109 - val_loss: 0.2833\n",
      "Epoch 19/70\n",
      "\u001b[1m532/532\u001b[0m \u001b[32m━━━━━━━━━━━━━━━━━━━━\u001b[0m\u001b[37m\u001b[0m \u001b[1m13s\u001b[0m 25ms/step - accuracy: 0.9355 - loss: 0.1962 - val_accuracy: 0.8965 - val_loss: 0.3237\n",
      "Epoch 20/70\n",
      "\u001b[1m532/532\u001b[0m \u001b[32m━━━━━━━━━━━━━━━━━━━━\u001b[0m\u001b[37m\u001b[0m \u001b[1m14s\u001b[0m 25ms/step - accuracy: 0.9351 - loss: 0.2094 - val_accuracy: 0.9178 - val_loss: 0.2453\n",
      "Epoch 21/70\n",
      "\u001b[1m532/532\u001b[0m \u001b[32m━━━━━━━━━━━━━━━━━━━━\u001b[0m\u001b[37m\u001b[0m \u001b[1m13s\u001b[0m 25ms/step - accuracy: 0.9471 - loss: 0.1719 - val_accuracy: 0.9172 - val_loss: 0.2580\n",
      "Epoch 22/70\n",
      "\u001b[1m532/532\u001b[0m \u001b[32m━━━━━━━━━━━━━━━━━━━━\u001b[0m\u001b[37m\u001b[0m \u001b[1m13s\u001b[0m 25ms/step - accuracy: 0.9443 - loss: 0.1740 - val_accuracy: 0.9228 - val_loss: 0.2427\n",
      "Epoch 23/70\n",
      "\u001b[1m532/532\u001b[0m \u001b[32m━━━━━━━━━━━━━━━━━━━━\u001b[0m\u001b[37m\u001b[0m \u001b[1m14s\u001b[0m 26ms/step - accuracy: 0.9488 - loss: 0.1610 - val_accuracy: 0.9015 - val_loss: 0.2844\n",
      "Epoch 24/70\n",
      "\u001b[1m532/532\u001b[0m \u001b[32m━━━━━━━━━━━━━━━━━━━━\u001b[0m\u001b[37m\u001b[0m \u001b[1m14s\u001b[0m 26ms/step - accuracy: 0.9463 - loss: 0.1622 - val_accuracy: 0.9040 - val_loss: 0.3274\n",
      "Epoch 25/70\n",
      "\u001b[1m532/532\u001b[0m \u001b[32m━━━━━━━━━━━━━━━━━━━━\u001b[0m\u001b[37m\u001b[0m \u001b[1m14s\u001b[0m 26ms/step - accuracy: 0.9512 - loss: 0.1679 - val_accuracy: 0.8808 - val_loss: 0.3649\n",
      "Epoch 26/70\n",
      "\u001b[1m532/532\u001b[0m \u001b[32m━━━━━━━━━━━━━━━━━━━━\u001b[0m\u001b[37m\u001b[0m \u001b[1m13s\u001b[0m 25ms/step - accuracy: 0.9503 - loss: 0.1571 - val_accuracy: 0.9279 - val_loss: 0.2441\n",
      "Epoch 27/70\n",
      "\u001b[1m532/532\u001b[0m \u001b[32m━━━━━━━━━━━━━━━━━━━━\u001b[0m\u001b[37m\u001b[0m \u001b[1m14s\u001b[0m 25ms/step - accuracy: 0.9461 - loss: 0.1555 - val_accuracy: 0.9084 - val_loss: 0.2958\n",
      "Epoch 28/70\n",
      "\u001b[1m532/532\u001b[0m \u001b[32m━━━━━━━━━━━━━━━━━━━━\u001b[0m\u001b[37m\u001b[0m \u001b[1m14s\u001b[0m 27ms/step - accuracy: 0.9608 - loss: 0.1245 - val_accuracy: 0.9203 - val_loss: 0.2321\n",
      "Epoch 29/70\n",
      "\u001b[1m532/532\u001b[0m \u001b[32m━━━━━━━━━━━━━━━━━━━━\u001b[0m\u001b[37m\u001b[0m \u001b[1m13s\u001b[0m 25ms/step - accuracy: 0.9434 - loss: 0.1711 - val_accuracy: 0.9046 - val_loss: 0.2879\n",
      "Epoch 30/70\n",
      "\u001b[1m532/532\u001b[0m \u001b[32m━━━━━━━━━━━━━━━━━━━━\u001b[0m\u001b[37m\u001b[0m \u001b[1m14s\u001b[0m 26ms/step - accuracy: 0.9595 - loss: 0.1325 - val_accuracy: 0.9228 - val_loss: 0.2553\n",
      "Epoch 31/70\n",
      "\u001b[1m532/532\u001b[0m \u001b[32m━━━━━━━━━━━━━━━━━━━━\u001b[0m\u001b[37m\u001b[0m \u001b[1m14s\u001b[0m 26ms/step - accuracy: 0.9549 - loss: 0.1427 - val_accuracy: 0.9115 - val_loss: 0.3085\n",
      "Epoch 32/70\n",
      "\u001b[1m532/532\u001b[0m \u001b[32m━━━━━━━━━━━━━━━━━━━━\u001b[0m\u001b[37m\u001b[0m \u001b[1m15s\u001b[0m 28ms/step - accuracy: 0.9588 - loss: 0.1347 - val_accuracy: 0.9228 - val_loss: 0.2843\n",
      "Epoch 33/70\n",
      "\u001b[1m532/532\u001b[0m \u001b[32m━━━━━━━━━━━━━━━━━━━━\u001b[0m\u001b[37m\u001b[0m \u001b[1m14s\u001b[0m 27ms/step - accuracy: 0.9592 - loss: 0.1263 - val_accuracy: 0.9184 - val_loss: 0.2829\n",
      "Epoch 34/70\n",
      "\u001b[1m532/532\u001b[0m \u001b[32m━━━━━━━━━━━━━━━━━━━━\u001b[0m\u001b[37m\u001b[0m \u001b[1m13s\u001b[0m 25ms/step - accuracy: 0.9587 - loss: 0.1333 - val_accuracy: 0.9072 - val_loss: 0.3863\n",
      "Epoch 35/70\n",
      "\u001b[1m532/532\u001b[0m \u001b[32m━━━━━━━━━━━━━━━━━━━━\u001b[0m\u001b[37m\u001b[0m \u001b[1m13s\u001b[0m 25ms/step - accuracy: 0.9592 - loss: 0.1210 - val_accuracy: 0.9272 - val_loss: 0.2532\n",
      "Epoch 36/70\n",
      "\u001b[1m532/532\u001b[0m \u001b[32m━━━━━━━━━━━━━━━━━━━━\u001b[0m\u001b[37m\u001b[0m \u001b[1m14s\u001b[0m 26ms/step - accuracy: 0.9619 - loss: 0.1200 - val_accuracy: 0.8921 - val_loss: 0.3607\n",
      "Epoch 37/70\n",
      "\u001b[1m532/532\u001b[0m \u001b[32m━━━━━━━━━━━━━━━━━━━━\u001b[0m\u001b[37m\u001b[0m \u001b[1m14s\u001b[0m 26ms/step - accuracy: 0.9608 - loss: 0.1256 - val_accuracy: 0.9354 - val_loss: 0.2497\n",
      "Epoch 38/70\n",
      "\u001b[1m532/532\u001b[0m \u001b[32m━━━━━━━━━━━━━━━━━━━━\u001b[0m\u001b[37m\u001b[0m \u001b[1m14s\u001b[0m 25ms/step - accuracy: 0.9658 - loss: 0.1113 - val_accuracy: 0.9279 - val_loss: 0.2504\n",
      "Epoch 39/70\n",
      "\u001b[1m532/532\u001b[0m \u001b[32m━━━━━━━━━━━━━━━━━━━━\u001b[0m\u001b[37m\u001b[0m \u001b[1m14s\u001b[0m 26ms/step - accuracy: 0.9639 - loss: 0.1026 - val_accuracy: 0.8908 - val_loss: 0.3602\n",
      "Epoch 40/70\n",
      "\u001b[1m532/532\u001b[0m \u001b[32m━━━━━━━━━━━━━━━━━━━━\u001b[0m\u001b[37m\u001b[0m \u001b[1m14s\u001b[0m 26ms/step - accuracy: 0.9700 - loss: 0.0964 - val_accuracy: 0.9247 - val_loss: 0.2523\n",
      "Epoch 41/70\n",
      "\u001b[1m532/532\u001b[0m \u001b[32m━━━━━━━━━━━━━━━━━━━━\u001b[0m\u001b[37m\u001b[0m \u001b[1m13s\u001b[0m 25ms/step - accuracy: 0.9745 - loss: 0.0855 - val_accuracy: 0.9197 - val_loss: 0.3171\n",
      "Epoch 42/70\n",
      "\u001b[1m532/532\u001b[0m \u001b[32m━━━━━━━━━━━━━━━━━━━━\u001b[0m\u001b[37m\u001b[0m \u001b[1m13s\u001b[0m 25ms/step - accuracy: 0.9679 - loss: 0.1008 - val_accuracy: 0.9228 - val_loss: 0.2927\n",
      "Epoch 43/70\n",
      "\u001b[1m532/532\u001b[0m \u001b[32m━━━━━━━━━━━━━━━━━━━━\u001b[0m\u001b[37m\u001b[0m \u001b[1m14s\u001b[0m 26ms/step - accuracy: 0.9715 - loss: 0.0913 - val_accuracy: 0.9316 - val_loss: 0.2546\n",
      "Epoch 44/70\n",
      "\u001b[1m532/532\u001b[0m \u001b[32m━━━━━━━━━━━━━━━━━━━━\u001b[0m\u001b[37m\u001b[0m \u001b[1m14s\u001b[0m 26ms/step - accuracy: 0.9702 - loss: 0.0943 - val_accuracy: 0.9210 - val_loss: 0.3266\n",
      "Epoch 45/70\n",
      "\u001b[1m532/532\u001b[0m \u001b[32m━━━━━━━━━━━━━━━━━━━━\u001b[0m\u001b[37m\u001b[0m \u001b[1m14s\u001b[0m 26ms/step - accuracy: 0.9725 - loss: 0.0936 - val_accuracy: 0.9172 - val_loss: 0.3518\n",
      "Epoch 46/70\n",
      "\u001b[1m532/532\u001b[0m \u001b[32m━━━━━━━━━━━━━━━━━━━━\u001b[0m\u001b[37m\u001b[0m \u001b[1m14s\u001b[0m 26ms/step - accuracy: 0.9689 - loss: 0.1030 - val_accuracy: 0.9322 - val_loss: 0.2615\n",
      "Epoch 47/70\n",
      "\u001b[1m532/532\u001b[0m \u001b[32m━━━━━━━━━━━━━━━━━━━━\u001b[0m\u001b[37m\u001b[0m \u001b[1m13s\u001b[0m 25ms/step - accuracy: 0.9724 - loss: 0.0878 - val_accuracy: 0.9122 - val_loss: 0.3744\n",
      "Epoch 48/70\n",
      "\u001b[1m532/532\u001b[0m \u001b[32m━━━━━━━━━━━━━━━━━━━━\u001b[0m\u001b[37m\u001b[0m \u001b[1m14s\u001b[0m 25ms/step - accuracy: 0.9768 - loss: 0.0767 - val_accuracy: 0.9197 - val_loss: 0.3124\n",
      "Epoch 49/70\n",
      "\u001b[1m532/532\u001b[0m \u001b[32m━━━━━━━━━━━━━━━━━━━━\u001b[0m\u001b[37m\u001b[0m \u001b[1m13s\u001b[0m 25ms/step - accuracy: 0.9715 - loss: 0.0946 - val_accuracy: 0.9090 - val_loss: 0.3341\n",
      "Epoch 50/70\n",
      "\u001b[1m532/532\u001b[0m \u001b[32m━━━━━━━━━━━━━━━━━━━━\u001b[0m\u001b[37m\u001b[0m \u001b[1m14s\u001b[0m 26ms/step - accuracy: 0.9725 - loss: 0.0903 - val_accuracy: 0.9266 - val_loss: 0.3262\n",
      "Epoch 51/70\n",
      "\u001b[1m532/532\u001b[0m \u001b[32m━━━━━━━━━━━━━━━━━━━━\u001b[0m\u001b[37m\u001b[0m \u001b[1m13s\u001b[0m 25ms/step - accuracy: 0.9786 - loss: 0.0733 - val_accuracy: 0.9385 - val_loss: 0.2906\n",
      "Epoch 52/70\n",
      "\u001b[1m532/532\u001b[0m \u001b[32m━━━━━━━━━━━━━━━━━━━━\u001b[0m\u001b[37m\u001b[0m \u001b[1m14s\u001b[0m 25ms/step - accuracy: 0.9791 - loss: 0.0694 - val_accuracy: 0.9235 - val_loss: 0.3066\n",
      "Epoch 53/70\n",
      "\u001b[1m532/532\u001b[0m \u001b[32m━━━━━━━━━━━━━━━━━━━━\u001b[0m\u001b[37m\u001b[0m \u001b[1m14s\u001b[0m 27ms/step - accuracy: 0.9755 - loss: 0.0801 - val_accuracy: 0.9366 - val_loss: 0.2783\n",
      "Epoch 54/70\n",
      "\u001b[1m532/532\u001b[0m \u001b[32m━━━━━━━━━━━━━━━━━━━━\u001b[0m\u001b[37m\u001b[0m \u001b[1m14s\u001b[0m 27ms/step - accuracy: 0.9834 - loss: 0.0573 - val_accuracy: 0.9279 - val_loss: 0.3141\n",
      "Epoch 55/70\n",
      "\u001b[1m532/532\u001b[0m \u001b[32m━━━━━━━━━━━━━━━━━━━━\u001b[0m\u001b[37m\u001b[0m \u001b[1m16s\u001b[0m 30ms/step - accuracy: 0.9598 - loss: 0.1323 - val_accuracy: 0.9354 - val_loss: 0.2671\n",
      "Epoch 56/70\n",
      "\u001b[1m532/532\u001b[0m \u001b[32m━━━━━━━━━━━━━━━━━━━━\u001b[0m\u001b[37m\u001b[0m \u001b[1m16s\u001b[0m 30ms/step - accuracy: 0.9771 - loss: 0.0734 - val_accuracy: 0.9191 - val_loss: 0.2927\n",
      "Epoch 57/70\n",
      "\u001b[1m532/532\u001b[0m \u001b[32m━━━━━━━━━━━━━━━━━━━━\u001b[0m\u001b[37m\u001b[0m \u001b[1m15s\u001b[0m 29ms/step - accuracy: 0.9783 - loss: 0.0726 - val_accuracy: 0.9304 - val_loss: 0.2987\n",
      "Epoch 58/70\n",
      "\u001b[1m532/532\u001b[0m \u001b[32m━━━━━━━━━━━━━━━━━━━━\u001b[0m\u001b[37m\u001b[0m \u001b[1m14s\u001b[0m 25ms/step - accuracy: 0.9823 - loss: 0.0613 - val_accuracy: 0.9322 - val_loss: 0.2887\n",
      "Epoch 59/70\n",
      "\u001b[1m532/532\u001b[0m \u001b[32m━━━━━━━━━━━━━━━━━━━━\u001b[0m\u001b[37m\u001b[0m \u001b[1m14s\u001b[0m 27ms/step - accuracy: 0.9821 - loss: 0.0595 - val_accuracy: 0.9335 - val_loss: 0.2959\n",
      "Epoch 60/70\n",
      "\u001b[1m532/532\u001b[0m \u001b[32m━━━━━━━━━━━━━━━━━━━━\u001b[0m\u001b[37m\u001b[0m \u001b[1m16s\u001b[0m 30ms/step - accuracy: 0.9774 - loss: 0.0734 - val_accuracy: 0.9348 - val_loss: 0.2318\n",
      "Epoch 61/70\n",
      "\u001b[1m532/532\u001b[0m \u001b[32m━━━━━━━━━━━━━━━━━━━━\u001b[0m\u001b[37m\u001b[0m \u001b[1m15s\u001b[0m 28ms/step - accuracy: 0.9805 - loss: 0.0733 - val_accuracy: 0.9404 - val_loss: 0.2648\n",
      "Epoch 62/70\n",
      "\u001b[1m532/532\u001b[0m \u001b[32m━━━━━━━━━━━━━━━━━━━━\u001b[0m\u001b[37m\u001b[0m \u001b[1m15s\u001b[0m 27ms/step - accuracy: 0.9754 - loss: 0.0733 - val_accuracy: 0.9272 - val_loss: 0.2660\n",
      "Epoch 63/70\n",
      "\u001b[1m532/532\u001b[0m \u001b[32m━━━━━━━━━━━━━━━━━━━━\u001b[0m\u001b[37m\u001b[0m \u001b[1m14s\u001b[0m 26ms/step - accuracy: 0.9855 - loss: 0.0557 - val_accuracy: 0.9360 - val_loss: 0.3041\n",
      "Epoch 64/70\n",
      "\u001b[1m532/532\u001b[0m \u001b[32m━━━━━━━━━━━━━━━━━━━━\u001b[0m\u001b[37m\u001b[0m \u001b[1m13s\u001b[0m 25ms/step - accuracy: 0.9755 - loss: 0.0683 - val_accuracy: 0.9266 - val_loss: 0.3037\n",
      "Epoch 65/70\n",
      "\u001b[1m532/532\u001b[0m \u001b[32m━━━━━━━━━━━━━━━━━━━━\u001b[0m\u001b[37m\u001b[0m \u001b[1m13s\u001b[0m 25ms/step - accuracy: 0.9805 - loss: 0.0660 - val_accuracy: 0.9366 - val_loss: 0.2962\n",
      "Epoch 66/70\n",
      "\u001b[1m532/532\u001b[0m \u001b[32m━━━━━━━━━━━━━━━━━━━━\u001b[0m\u001b[37m\u001b[0m \u001b[1m13s\u001b[0m 25ms/step - accuracy: 0.9825 - loss: 0.0558 - val_accuracy: 0.9366 - val_loss: 0.2657\n",
      "Epoch 67/70\n",
      "\u001b[1m532/532\u001b[0m \u001b[32m━━━━━━━━━━━━━━━━━━━━\u001b[0m\u001b[37m\u001b[0m \u001b[1m14s\u001b[0m 25ms/step - accuracy: 0.9774 - loss: 0.0711 - val_accuracy: 0.9398 - val_loss: 0.2743\n",
      "Epoch 68/70\n",
      "\u001b[1m532/532\u001b[0m \u001b[32m━━━━━━━━━━━━━━━━━━━━\u001b[0m\u001b[37m\u001b[0m \u001b[1m13s\u001b[0m 25ms/step - accuracy: 0.9828 - loss: 0.0566 - val_accuracy: 0.9329 - val_loss: 0.2957\n",
      "Epoch 69/70\n",
      "\u001b[1m532/532\u001b[0m \u001b[32m━━━━━━━━━━━━━━━━━━━━\u001b[0m\u001b[37m\u001b[0m \u001b[1m13s\u001b[0m 25ms/step - accuracy: 0.9830 - loss: 0.0579 - val_accuracy: 0.9348 - val_loss: 0.2669\n",
      "Epoch 70/70\n",
      "\u001b[1m532/532\u001b[0m \u001b[32m━━━━━━━━━━━━━━━━━━━━\u001b[0m\u001b[37m\u001b[0m \u001b[1m14s\u001b[0m 26ms/step - accuracy: 0.9830 - loss: 0.0543 - val_accuracy: 0.8990 - val_loss: 0.4310\n"
     ]
    }
   ],
   "source": [
    "best_hps = tuner.get_best_hyperparameters(num_trials=1)[0] \n",
    "modified_hps = best_hps.copy()\n",
    "\n",
    "# HERE IS AN EXAMPLE\n",
    "#modified_hps.values['c_units'] = 16\n",
    "#modified_hps.values['k_units'] = 5 \n",
    "#best_model = Resnet().build(modified_hps)\n",
    "#best_model = Resnet().build(best_hps)\n",
    "\n",
    "best_model = RNN().build(best_hps)\n",
    " \n",
    "history = best_model.fit(\n",
    "    X_train, y_train, \n",
    "    validation_data=(X_val, y_val),\n",
    "    epochs=70,\n",
    "    batch_size=16\n",
    "    )\n"
   ]
  },
  {
   "cell_type": "code",
   "execution_count": null,
   "metadata": {},
   "outputs": [
    {
     "name": "stdout",
     "output_type": "stream",
     "text": [
      "\u001b[1m34/34\u001b[0m \u001b[32m━━━━━━━━━━━━━━━━━━━━\u001b[0m\u001b[37m\u001b[0m \u001b[1m0s\u001b[0m 14ms/step - accuracy: 0.8319 - loss: 0.8206\n",
      "Test Loss: 0.46737098693847656\n",
      "Test Accuracy: 0.9041353464126587\n"
     ]
    }
   ],
   "source": [
    "test_loss, test_accuracy = best_model.evaluate(X_test, y_test, batch_size=16)\n",
    "print(f\"Test Loss: {test_loss}\")\n",
    "print(f\"Test Accuracy: {test_accuracy}\")"
   ]
  },
  {
   "cell_type": "code",
   "execution_count": null,
   "metadata": {},
   "outputs": [
    {
     "name": "stdout",
     "output_type": "stream",
     "text": [
      "\u001b[1m17/17\u001b[0m \u001b[32m━━━━━━━━━━━━━━━━━━━━\u001b[0m\u001b[37m\u001b[0m \u001b[1m1s\u001b[0m 22ms/step\n",
      "Classification Report (Test Data):\n",
      "              precision    recall  f1-score   support\n",
      "\n",
      "           0       0.99      0.68      0.81       111\n",
      "           1       0.73      0.97      0.83       115\n",
      "           2       0.97      0.99      0.98       195\n",
      "           3       0.98      0.89      0.93       111\n",
      "\n",
      "    accuracy                           0.90       532\n",
      "   macro avg       0.92      0.89      0.89       532\n",
      "weighted avg       0.92      0.90      0.90       532\n",
      "\n",
      "AUC: 0.9814308316976486\n",
      "\u001b[1m266/266\u001b[0m \u001b[32m━━━━━━━━━━━━━━━━━━━━\u001b[0m\u001b[37m\u001b[0m \u001b[1m3s\u001b[0m 13ms/step\n",
      "Classification Report (Train Data):\n",
      "              precision    recall  f1-score   support\n",
      "\n",
      "           0       0.97      0.99      0.98      1774\n",
      "           1       0.96      0.98      0.97      1840\n",
      "           2       0.99      1.00      0.99      3110\n",
      "           3       0.99      0.96      0.97      1778\n",
      "\n",
      "    accuracy                           0.98      8502\n",
      "   macro avg       0.98      0.98      0.98      8502\n",
      "weighted avg       0.98      0.98      0.98      8502\n",
      "\n"
     ]
    }
   ],
   "source": [
    "y_pred = best_model.predict(X_test)\n",
    "\n",
    "if y_pred.shape[1] == 1:  \n",
    "    y_pred_binary = (y_pred > 0.5).astype(int)\n",
    "    auc = sklearn.metrics.roc_auc_score(y_test, y_pred)  \n",
    "else:\n",
    "    y_pred_binary = np.argmax(y_pred, axis=1)  \n",
    "    auc = sklearn.metrics.roc_auc_score(y_test, y_pred, multi_class='ovr')\n",
    "\n",
    "print(\"Classification Report (Test Data):\")\n",
    "print(sklearn.metrics.classification_report(y_test, y_pred_binary))\n",
    "print(f\"AUC: {auc}\")\n",
    "\n",
    "y_train_pred = best_model.predict(X_train)\n",
    "y_train_pred = np.argmax(y_train_pred, axis=1)\n",
    "\n",
    "print(\"Classification Report (Train Data):\")\n",
    "print(sklearn.metrics.classification_report(y_train, y_train_pred))\n"
   ]
  },
  {
   "cell_type": "code",
   "execution_count": null,
   "metadata": {},
   "outputs": [
    {
     "data": {
      "image/png": "[encoded data removed]",
      "text/plain": [
       "<Figure size 1400x600 with 2 Axes>"
      ]
     },
     "metadata": {},
     "output_type": "display_data"
    }
   ],
   "source": [
    "fig, ax = plt.subplots(1, 2, figsize=(14, 6))\n",
    "\n",
    "ax[0].plot(history.history['accuracy'], label='accuracy')\n",
    "ax[0].plot(history.history['val_accuracy'], label='val_accuracy')\n",
    "ax[0].set_title('Accuracy vs Val Accuracy')\n",
    "ax[0].set_xlabel('Epochs')\n",
    "ax[0].set_ylabel('Accuracy')\n",
    "ax[0].legend()\n",
    "\n",
    "ax[1].plot(history.history['loss'], label='loss')\n",
    "ax[1].plot(history.history['val_loss'], label='val_loss')\n",
    "ax[1].set_title('Loss vs Val Loss')\n",
    "ax[1].set_xlabel('Epochs')\n",
    "ax[1].set_ylabel('Loss')\n",
    "ax[1].legend()\n",
    "\n",
    "plt.tight_layout()\n",
    "plt.show()"
   ]
  }
 ],
 "metadata": {
  "kernelspec": {
   "display_name": "tenv",
   "language": "python",
   "name": "python3"
  },
  "language_info": {
   "codemirror_mode": {
    "name": "ipython",
    "version": 3
   },
   "file_extension": ".py",
   "mimetype": "text/x-python",
   "name": "python",
   "nbconvert_exporter": "python",
   "pygments_lexer": "ipython3",
   "version": "3.11.11"
  }
 },
 "nbformat": 4,
 "nbformat_minor": 2
}
